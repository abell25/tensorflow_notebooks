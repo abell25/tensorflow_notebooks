{
 "cells": [
  {
   "cell_type": "code",
   "execution_count": 1,
   "metadata": {
    "collapsed": false
   },
   "outputs": [
    {
     "name": "stdout",
     "output_type": "stream",
     "text": [
      "Successfully downloaded train-images-idx3-ubyte.gz 9912422 bytes.\n",
      "Extracting /tmp/data/train-images-idx3-ubyte.gz\n",
      "Successfully downloaded train-labels-idx1-ubyte.gz 28881 bytes.\n",
      "Extracting /tmp/data/train-labels-idx1-ubyte.gz\n",
      "Successfully downloaded t10k-images-idx3-ubyte.gz 1648877 bytes.\n",
      "Extracting /tmp/data/t10k-images-idx3-ubyte.gz\n",
      "Successfully downloaded t10k-labels-idx1-ubyte.gz 4542 bytes.\n",
      "Extracting /tmp/data/t10k-labels-idx1-ubyte.gz\n"
     ]
    }
   ],
   "source": [
    "from tensorflow.examples.tutorials.mnist import input_data\n",
    "mnist = input_data.read_data_sets(\"/tmp/data/\", one_hot=True)\n",
    "\n",
    "import tensorflow as tf\n",
    "sess = tf.InteractiveSession()"
   ]
  },
  {
   "cell_type": "code",
   "execution_count": 18,
   "metadata": {
    "collapsed": false
   },
   "outputs": [
    {
     "name": "stderr",
     "output_type": "stream",
     "text": [
      "/usr/local/lib/python2.7/dist-packages/ipykernel/__main__.py:6: FutureWarning: in the future, boolean array-likes will be handled as a boolean array index\n"
     ]
    },
    {
     "data": {
      "text/plain": [
       "(28, 28)"
      ]
     },
     "execution_count": 18,
     "metadata": {},
     "output_type": "execute_result"
    }
   ],
   "source": [
    "imgs = mnist.train.images.reshape([-1, 28, 28])\n",
    "labels = np.argmax(mnist.train.labels, axis=1)\n",
    "\n",
    "img_means = [np.mean(imgs[[label==k for label in labels]], axis=0) for k in range(10)]"
   ]
  },
  {
   "cell_type": "code",
   "execution_count": 33,
   "metadata": {
    "collapsed": false
   },
   "outputs": [
    {
     "data": {
      "text/plain": [
       "(55000,)"
      ]
     },
     "execution_count": 33,
     "metadata": {},
     "output_type": "execute_result"
    }
   ],
   "source": [
    "#[np.mean(np.abs(img - img_means)) for k in range(10)]\n",
    "preds = np.array([np.argmin([np.mean((np.abs(img - img_means[k])**2).reshape(-1,28*28), axis=1)) for img in imgs])\n",
    "preds.shape"
   ]
  },
  {
   "cell_type": "code",
   "execution_count": 35,
   "metadata": {
    "collapsed": false
   },
   "outputs": [
    {
     "data": {
      "text/plain": [
       "(array([7, 3, 4, 6, 1, 8, 1, 0, 9, 8]), array([5, 1, 1, 1, 1, 1, 1, 1, 1, 1]))"
      ]
     },
     "execution_count": 35,
     "metadata": {},
     "output_type": "execute_result"
    }
   ],
   "source": [
    "labels[:10], preds[:10]"
   ]
  },
  {
   "cell_type": "markdown",
   "metadata": {},
   "source": [
    "# Logistic Regression"
   ]
  },
  {
   "cell_type": "code",
   "execution_count": 2,
   "metadata": {
    "collapsed": false
   },
   "outputs": [
    {
     "name": "stdout",
     "output_type": "stream",
     "text": [
      "0\t test accuracy:0.41\n",
      "100\t test accuracy:0.89\n",
      "200\t test accuracy:0.90\n",
      "300\t test accuracy:0.91\n",
      "400\t test accuracy:0.90\n",
      "500\t test accuracy:0.91\n",
      "600\t test accuracy:0.91\n",
      "700\t test accuracy:0.92\n",
      "800\t test accuracy:0.92\n",
      "900\t test accuracy:0.91\n"
     ]
    }
   ],
   "source": [
    "x = tf.placeholder(tf.float32, shape=[None, 784])\n",
    "y = tf.placeholder(tf.float32, shape=[None, 10])\n",
    "\n",
    "W = tf.Variable(tf.zeros([784,10]))\n",
    "b = tf.Variable(tf.zeros([10]))\n",
    "y_pred = tf.matmul(x,W) + b\n",
    "\n",
    "cross_entropy = tf.reduce_mean(tf.nn.softmax_cross_entropy_with_logits(y_pred, y))\n",
    "train_step = tf.train.GradientDescentOptimizer(0.5).minimize(cross_entropy)\n",
    "\n",
    "correct_prediction = tf.equal(tf.argmax(y_pred,1), tf.argmax(y,1))\n",
    "accuracy = tf.reduce_mean(tf.cast(correct_prediction, tf.float32))\n",
    "\n",
    "sess.run(tf.initialize_all_variables())\n",
    "\n",
    "for i in range(1000):\n",
    "    batch = mnist.train.next_batch(100)\n",
    "    train_step.run(feed_dict={x: batch[0], y: batch[1]})\n",
    "\n",
    "    if i % 100 == 0:\n",
    "        print(\"{}\\t test accuracy:{:.2f}\".format(i, accuracy.eval(feed_dict={x: mnist.test.images, y: mnist.test.labels})))"
   ]
  },
  {
   "cell_type": "code",
   "execution_count": 8,
   "metadata": {
    "collapsed": true
   },
   "outputs": [],
   "source": [
    "def weight_variable(shape, name=None):\n",
    "    initial = tf.truncated_normal(shape, stddev=0.1)\n",
    "    return tf.Variable(initial, name=name)\n",
    "\n",
    "def bias_variable(shape, name=None):\n",
    "    initial = tf.constant(0.1, shape=shape)\n",
    "    return tf.Variable(initial, name=name)\n",
    "\n",
    "def conv2d(x, W):\n",
    "    return tf.nn.conv2d(x, W, strides=[1, 1, 1, 1], padding='SAME')\n",
    "\n",
    "def max_pool_2x2(x):\n",
    "    return tf.nn.max_pool(x, ksize=[1, 2, 2, 1], strides=[1, 2, 2, 1], padding='SAME')\n",
    "\n",
    "weights = {\n",
    "    \"conv1\": weight_variable([5, 5, 1, 32], \"W_conv1\"),\n",
    "    \"conv2\": weight_variable([5, 5, 32, 64], \"W_conv2\"),\n",
    "    \"fc1\": weight_variable([7 * 7 * 64, 1024], \"W_fc1\"),\n",
    "    \"fc2\": weight_variable([1024, 10], \"W_fc2\")\n",
    "}\n",
    "\n",
    "biases = {\n",
    "    \"conv1\": bias_variable([32], \"b_conv1\"),\n",
    "    \"conv2\": bias_variable([64], \"b_conv2\"),\n",
    "    \"fc1\": bias_variable([1024], \"b_fc1\"),\n",
    "    \"fc2\": bias_variable([10], \"b_fc2\")\n",
    "}\n",
    "\n",
    "keep_prob = tf.placeholder(tf.float32, name=\"keep_prob\")\n",
    "\n",
    "def convModel(x, weights, biases, keep_prob):\n",
    "    x_image = tf.reshape(x, [-1,28,28,1])\n",
    "    # [batch_size, 28, 28, 1]\n",
    "\n",
    "    h_conv1 = tf.nn.relu(conv2d(x_image, weights[\"conv1\"]) + biases[\"conv1\"])\n",
    "    h_pool1 = max_pool_2x2(h_conv1)\n",
    "    # [batch_size, 14, 14, 32]\n",
    "\n",
    "    h_conv2 = tf.nn.relu(conv2d(h_pool1, weights[\"conv2\"]) + biases[\"conv2\"])\n",
    "    h_pool2 = max_pool_2x2(h_conv2)\n",
    "    # [batch_size, 7, 7, 64]\n",
    "\n",
    "    h_pool2_flat = tf.reshape(h_pool2, [-1, 7*7*64])\n",
    "    # [batch_size, 7*7*64]\n",
    "    \n",
    "    h_fc1 = tf.nn.relu(tf.matmul(h_pool2_flat, weights[\"fc1\"]) + biases[\"fc1\"])\n",
    "    # [batch_size, 1024]\n",
    "    \n",
    "    # Add dropout\n",
    "    h_fc1_drop = tf.nn.dropout(h_fc1, keep_prob)\n",
    "\n",
    "    y_conv = tf.matmul(h_fc1_drop, weights[\"fc2\"]) + biases[\"fc2\"]\n",
    "    # [batch_size, 10]\n",
    "    \n",
    "    return y_conv\n",
    "\n",
    "y_conv = convModel(x, weights, biases, keep_prob)"
   ]
  },
  {
   "cell_type": "code",
   "execution_count": 9,
   "metadata": {
    "collapsed": true
   },
   "outputs": [],
   "source": [
    "learning_rate = 1e-4\n",
    "\n",
    "cost = tf.reduce_mean(tf.nn.softmax_cross_entropy_with_logits(y_conv, y))\n",
    "optimizer = tf.train.AdamOptimizer(learning_rate=learning_rate).minimize(cost)\n",
    "\n",
    "correct_bools = tf.equal(tf.argmax(y_conv,1), tf.argmax(y,1))\n",
    "acc = tf.reduce_mean(tf.cast(correct_bools, tf.float32))"
   ]
  },
  {
   "cell_type": "code",
   "execution_count": 10,
   "metadata": {
    "collapsed": true
   },
   "outputs": [],
   "source": [
    "sess.run(tf.initialize_all_variables())"
   ]
  },
  {
   "cell_type": "code",
   "execution_count": 12,
   "metadata": {
    "collapsed": false
   },
   "outputs": [
    {
     "name": "stdout",
     "output_type": "stream",
     "text": [
      "iter:    0, train_acc:0.095, test_acc:0.094, train_loss:9.896, test_loss:10.027\n",
      "iter:  500, train_acc:0.936, test_acc:0.955, train_loss:0.214, test_loss:0.154\n",
      "iter: 1000, train_acc:0.952, test_acc:0.956, train_loss:0.151, test_loss:0.130\n",
      "iter: 1500, train_acc:0.971, test_acc:0.968, train_loss:0.091, test_loss:0.104\n",
      "iter: 2000, train_acc:0.972, test_acc:0.977, train_loss:0.093, test_loss:0.084\n",
      "iter: 2500, train_acc:0.981, test_acc:0.979, train_loss:0.061, test_loss:0.065\n",
      "iter: 3000, train_acc:0.981, test_acc:0.981, train_loss:0.064, test_loss:0.059\n",
      "iter: 3500, train_acc:0.986, test_acc:0.982, train_loss:0.043, test_loss:0.056\n",
      "iter: 4000, train_acc:0.988, test_acc:0.984, train_loss:0.034, test_loss:0.049\n",
      "iter: 4500, train_acc:0.990, test_acc:0.984, train_loss:0.035, test_loss:0.055\n",
      "iter: 5000, train_acc:0.992, test_acc:0.988, train_loss:0.026, test_loss:0.042\n",
      "iter: 5500, train_acc:0.990, test_acc:0.987, train_loss:0.032, test_loss:0.045\n",
      "iter: 6000, train_acc:0.993, test_acc:0.988, train_loss:0.020, test_loss:0.044\n",
      "iter: 6500, train_acc:0.993, test_acc:0.985, train_loss:0.023, test_loss:0.042\n",
      "iter: 7000, train_acc:0.992, test_acc:0.985, train_loss:0.022, test_loss:0.039\n",
      "iter: 7500, train_acc:0.995, test_acc:0.990, train_loss:0.015, test_loss:0.034\n",
      "iter: 8000, train_acc:0.996, test_acc:0.986, train_loss:0.014, test_loss:0.044\n",
      "iter: 8500, train_acc:0.996, test_acc:0.990, train_loss:0.016, test_loss:0.032\n",
      "iter: 9000, train_acc:0.996, test_acc:0.990, train_loss:0.013, test_loss:0.035\n",
      "iter: 9500, train_acc:0.995, test_acc:0.987, train_loss:0.010, test_loss:0.036\n"
     ]
    }
   ],
   "source": [
    "train_error, test_error, batch_iter = [], [], []\n",
    "batch_size = 128\n",
    "for i in range(10000):\n",
    "    x_train, y_train = mnist.train.next_batch(batch_size)\n",
    "\n",
    "    optimizer.run(feed_dict={x: x_train, y: y_train, keep_prob: 0.5})\n",
    "    \n",
    "    if i % 500 == 0:\n",
    "        x_train, y_train = mnist.train.next_batch(5000)\n",
    "        acc_train = sess.run(acc, feed_dict={x: x_train, y: y_train, keep_prob: 0.5})\n",
    "        \n",
    "        x_test, y_test = mnist.test.next_batch(5000)\n",
    "        acc_test = sess.run(acc, feed_dict={x: x_test, y: y_test, keep_prob: 0.5})\n",
    "        \n",
    "        train_loss = sess.run(cost, feed_dict={x: x_train, y: y_train, keep_prob: 0.5})  \n",
    "        test_loss = sess.run(cost, feed_dict={x: x_test, y: y_test, keep_prob: 0.5})\n",
    "        \n",
    "        train_error.append(acc_train)\n",
    "        test_error.append(acc_test)\n",
    "        batch_iter.append(i)\n",
    "\n",
    "        if i % 500 == 0:\n",
    "            print(\"iter:{:5}, train_acc:{:.3f}, test_acc:{:.3f}, train_loss:{:.3f}, test_loss:{:.3f}\".format(i, acc_train, acc_test, train_loss, test_loss))\n",
    "\n",
    "        "
   ]
  },
  {
   "cell_type": "code",
   "execution_count": 13,
   "metadata": {
    "collapsed": false
   },
   "outputs": [
    {
     "data": {
      "image/png": "[encoded data removed]",
      "text/plain": [
       "<matplotlib.figure.Figure at 0x7f60dac5d210>"
      ]
     },
     "metadata": {},
     "output_type": "display_data"
    }
   ],
   "source": [
    "plt.figure(figsize=(8,4))\n",
    "k=1\n",
    "plt.plot(batch_iter[k:], train_error[k:], 'r', batch_iter[k:], test_error[k:], 'g');\n",
    "plt.legend([\"train error\", \"test error\"]);"
   ]
  },
  {
   "cell_type": "code",
   "execution_count": null,
   "metadata": {
    "collapsed": true
   },
   "outputs": [],
   "source": []
  }
 ],
 "metadata": {
  "kernelspec": {
   "display_name": "Python 2",
   "language": "python",
   "name": "python2"
  },
  "language_info": {
   "codemirror_mode": {
    "name": "ipython",
    "version": 2
   },
   "file_extension": ".py",
   "mimetype": "text/x-python",
   "name": "python",
   "nbconvert_exporter": "python",
   "pygments_lexer": "ipython2",
   "version": "2.7.6"
  }
 },
 "nbformat": 4,
 "nbformat_minor": 1
}
