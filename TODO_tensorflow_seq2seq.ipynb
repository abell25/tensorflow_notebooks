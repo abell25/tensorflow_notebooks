{
 "cells": [
  {
   "cell_type": "code",
   "execution_count": 35,
   "metadata": {
    "collapsed": true
   },
   "outputs": [],
   "source": [
    "from __future__ import print_function\n",
    "\n",
    "import numpy as np\n",
    "import tensorflow as tf\n",
    "from tensorflow.python.ops import rnn, rnn_cell, seq\n",
    "import re"
   ]
  },
  {
   "cell_type": "code",
   "execution_count": 21,
   "metadata": {
    "collapsed": false
   },
   "outputs": [
    {
     "data": {
      "text/plain": [
       "['1', '23', '456', '7890']"
      ]
     },
     "execution_count": 21,
     "metadata": {},
     "output_type": "execute_result"
    }
   ],
   "source": [
    "re.findall(\"^-?[0-9\\.]+$|[\\(\\)]\", \"1.234.23(sdlk)\")\n",
    "re.sub(\"[/\\\\\\\\]\", \" \", \"sp/id/e\\\\r\")\n",
    "re.findall(\"[0-9]{1,}\", \", 1, 23, 456, 7890\")"
   ]
  },
  {
   "cell_type": "code",
   "execution_count": 44,
   "metadata": {
    "collapsed": false
   },
   "outputs": [],
   "source": [
    "def normalize(line):\n",
    "    line = line.lower()\n",
    "    line = re.sub(\"[-/\\\\\\\\]\", \" \", line)\n",
    "    line = re.sub(\"[^-\\w\\d \\.\\t]\", \" \", line)\n",
    "    line = re.sub(\"  +\", \" \", line)\n",
    "    return line\n",
    "\n",
    "def parseLine(line):\n",
    "    vals = line.strip(\"\\n \").split(\"\\t\")\n",
    "    query, title = vals[0], vals[2]\n",
    "    return (query, title)\n",
    "\n",
    "def queryTitleFilter(query, title):\n",
    "    negative_match = \"-\\(|^-\\w| -\\w\"\n",
    "    chars_to_reject = \"[\\(\\)\\[\\]\\\"]\"\n",
    "    num_only = \"^-?[0-9\\.]+$\"\n",
    "    any_number = \"-?[0-9\\.]{2,}\"\n",
    "    if len(query.split(\" \")) >= 5 or len(title.split(\" \")) >= 30:\n",
    "        return False\n",
    "    if len(query.split(\" \")) < 1 or len(query.strip()) == 0:\n",
    "        return False\n",
    "    if len(re.findall(\"|\".join([negative_match, chars_to_reject, num_only, any_number]), query)) > 0:\n",
    "        return False   \n",
    "    return True\n",
    "\n",
    "def writeLines(ar, filename):\n",
    "    with open(filename, \"w\") as out:\n",
    "         for i, x in enumerate(ar):\n",
    "            print(x, file=out)\n",
    "            \n",
    "\n",
    "queryTitlePairsRaw = (parseLine(line) for line in open(\"/home/ubuntu/data/queryClickPairs/part-00000.tsv\", \"r\") )\n",
    "queryTitlePairs = ((normalize(q),normalize(t)) for q,t in queryTitlePairsRaw if queryTitleFilter(q,t))\n",
    "#queryTitlePairs = ((q,t) for q,t in queryTitlePairsRaw if queryTitleFilter(q,t))"
   ]
  },
  {
   "cell_type": "code",
   "execution_count": 47,
   "metadata": {
    "collapsed": false
   },
   "outputs": [],
   "source": [
    "lines = [next(queryTitlePairs) for _ in range(1000000)]\n",
    "lines_train = [next(queryTitlePairs) for _ in range(100000)]\n",
    "lines_dev = [next(queryTitlePairs) for _ in range(100000)]"
   ]
  },
  {
   "cell_type": "code",
   "execution_count": 48,
   "metadata": {
    "collapsed": false
   },
   "outputs": [],
   "source": [
    "writeLines([q for q,t in lines], \"/home/ubuntu/data/query_titles/query.txt\")\n",
    "writeLines([t for q,t in lines], \"/home/ubuntu/data/query_titles/title.txt\")\n",
    "writeLines([q for q,t in lines_train], \"/home/ubuntu/data/query_titles/query.train\")\n",
    "writeLines([t for q,t in lines_train], \"/home/ubuntu/data/query_titles/title.train\")\n",
    "writeLines([q for q,t in lines_dev], \"/home/ubuntu/data/query_titles/query.dev\")\n",
    "writeLines([t for q,t in lines_dev], \"/home/ubuntu/data/query_titles/title.dev\")"
   ]
  },
  {
   "cell_type": "code",
   "execution_count": 49,
   "metadata": {
    "collapsed": true
   },
   "outputs": [],
   "source": []
  },
  {
   "cell_type": "code",
   "execution_count": null,
   "metadata": {
    "collapsed": true
   },
   "outputs": [],
   "source": []
  }
 ],
 "metadata": {
  "kernelspec": {
   "display_name": "Python 2",
   "language": "python",
   "name": "python2"
  },
  "language_info": {
   "codemirror_mode": {
    "name": "ipython",
    "version": 2
   },
   "file_extension": ".py",
   "mimetype": "text/x-python",
   "name": "python",
   "nbconvert_exporter": "python",
   "pygments_lexer": "ipython2",
   "version": "2.7.6"
  }
 },
 "nbformat": 4,
 "nbformat_minor": 1
}
