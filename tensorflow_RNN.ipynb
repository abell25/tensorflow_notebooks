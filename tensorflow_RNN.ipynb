{
 "cells": [
  {
   "cell_type": "code",
   "execution_count": 1,
   "metadata": {
    "collapsed": false
   },
   "outputs": [
    {
     "name": "stdout",
     "output_type": "stream",
     "text": [
      "Extracting /tmp/data/train-images-idx3-ubyte.gz\n",
      "Extracting /tmp/data/train-labels-idx1-ubyte.gz\n",
      "Extracting /tmp/data/t10k-images-idx3-ubyte.gz\n",
      "Extracting /tmp/data/t10k-labels-idx1-ubyte.gz\n"
     ]
    }
   ],
   "source": [
    "import numpy as np\n",
    "import tensorflow as tf\n",
    "from tensorflow.python.ops import rnn, rnn_cell\n",
    "\n",
    "# Import MINST data\n",
    "from tensorflow.examples.tutorials.mnist import input_data\n",
    "mnist = input_data.read_data_sets(\"/tmp/data/\", one_hot=True)"
   ]
  },
  {
   "cell_type": "code",
   "execution_count": 2,
   "metadata": {
    "collapsed": true
   },
   "outputs": [],
   "source": [
    "sess = tf.InteractiveSession()"
   ]
  },
  {
   "cell_type": "code",
   "execution_count": 4,
   "metadata": {
    "collapsed": true
   },
   "outputs": [],
   "source": [
    "# Parameters\n",
    "learning_rate = 0.001\n",
    "training_iters = 100000\n",
    "batch_size = 128\n",
    "display_step = 10\n",
    "\n",
    "# Network Parameters\n",
    "n_input = 28 # MNIST data input (img shape: 28*28)\n",
    "n_steps = 28 # timesteps\n",
    "n_hidden = 128 # hidden layer num of features\n",
    "n_classes = 10 # MNIST total classes (0-9 digits)\n",
    "\n",
    "x = tf.placeholder(\"float\", [None, n_steps, n_input])\n",
    "y = tf.placeholder(\"float\", [None, n_classes])\n",
    "\n",
    "rnn_weights = tf.Variable(tf.random_normal([n_hidden, n_classes]))\n",
    "rnn_biases = tf.Variable(tf.random_normal([n_classes]))"
   ]
  },
  {
   "cell_type": "code",
   "execution_count": 5,
   "metadata": {
    "collapsed": false
   },
   "outputs": [],
   "source": [
    "def RNN(x, weights, biases):\n",
    "    lstm_cell = tf.nn.rnn_cell.BasicLSTMCell(n_hidden, forget_bias=1.0)\n",
    "\n",
    "    x = tf.transpose(x, [1, 0, 2]) # swap batch_size and n_steps\n",
    "    x = tf.reshape(x, [-1, n_input])\n",
    "    x = tf.split(0, n_steps, x)\n",
    "\n",
    "    outputs, states = rnn.rnn(lstm_cell, x, dtype=tf.float32)\n",
    "\n",
    "    return tf.matmul(outputs[-1], weights) + biases\n",
    "    \n",
    "pred = RNN(x, rnn_weights, rnn_biases)"
   ]
  },
  {
   "cell_type": "code",
   "execution_count": 6,
   "metadata": {
    "collapsed": true
   },
   "outputs": [],
   "source": [
    "cost = tf.reduce_mean(tf.nn.softmax_cross_entropy_with_logits(pred, y))\n",
    "optimizer = tf.train.AdamOptimizer(learning_rate=learning_rate).minimize(cost)\n",
    "\n",
    "correct_pred = tf.cast(tf.equal(tf.argmax(pred, 1), tf.argmax(y, 1)), tf.float32)\n",
    "acc = tf.reduce_mean(correct_pred)"
   ]
  },
  {
   "cell_type": "code",
   "execution_count": 8,
   "metadata": {
    "collapsed": true
   },
   "outputs": [],
   "source": [
    "sess.run(tf.initialize_all_variables())"
   ]
  },
  {
   "cell_type": "code",
   "execution_count": 7,
   "metadata": {
    "collapsed": false
   },
   "outputs": [
    {
     "name": "stdout",
     "output_type": "stream",
     "text": [
      "iter:    0, train_acc:0.136, test_acc:0.116, train_loss:2.723, test_loss:2.791\n",
      "iter:  500, train_acc:0.939, test_acc:0.966, train_loss:0.208, test_loss:0.113\n",
      "iter: 1000, train_acc:0.970, test_acc:0.968, train_loss:0.093, test_loss:0.095\n",
      "iter: 1500, train_acc:0.976, test_acc:0.975, train_loss:0.072, test_loss:0.079\n",
      "iter: 2000, train_acc:0.987, test_acc:0.981, train_loss:0.042, test_loss:0.057\n",
      "iter: 2500, train_acc:0.986, test_acc:0.973, train_loss:0.045, test_loss:0.088\n",
      "iter: 3000, train_acc:0.990, test_acc:0.983, train_loss:0.029, test_loss:0.054\n",
      "iter: 3500, train_acc:0.984, test_acc:0.983, train_loss:0.046, test_loss:0.068\n",
      "iter: 4000, train_acc:0.988, test_acc:0.978, train_loss:0.036, test_loss:0.076\n",
      "iter: 4500, train_acc:0.990, test_acc:0.984, train_loss:0.027, test_loss:0.048\n",
      "iter: 5000, train_acc:0.994, test_acc:0.985, train_loss:0.020, test_loss:0.054\n",
      "iter: 5500, train_acc:0.993, test_acc:0.986, train_loss:0.019, test_loss:0.047\n",
      "iter: 6000, train_acc:0.995, test_acc:0.987, train_loss:0.019, test_loss:0.047\n",
      "iter: 6500, train_acc:0.995, test_acc:0.985, train_loss:0.014, test_loss:0.048\n",
      "iter: 7000, train_acc:0.997, test_acc:0.985, train_loss:0.012, test_loss:0.047\n",
      "iter: 7500, train_acc:0.995, test_acc:0.987, train_loss:0.015, test_loss:0.044\n",
      "iter: 8000, train_acc:0.995, test_acc:0.986, train_loss:0.017, test_loss:0.052\n",
      "iter: 8500, train_acc:0.996, test_acc:0.986, train_loss:0.012, test_loss:0.062\n",
      "iter: 9000, train_acc:0.996, test_acc:0.987, train_loss:0.012, test_loss:0.053\n",
      "iter: 9500, train_acc:0.995, test_acc:0.984, train_loss:0.013, test_loss:0.055\n"
     ]
    }
   ],
   "source": [
    "train_error, test_error, batch_iter = [], [], []\n",
    "batch_size = 100\n",
    "for i in range(10000):\n",
    "    x_train, y_train = mnist.train.next_batch(batch_size)\n",
    "    x_train = x_train.reshape((batch_size, n_steps, n_input))\n",
    "\n",
    "    optimizer.run(feed_dict={x: x_train, y: y_train})\n",
    "    \n",
    "    if i % 500 == 0:\n",
    "        x_train, y_train = mnist.train.next_batch(5000)\n",
    "        x_train = x_train.reshape((5000, n_steps, n_input))\n",
    "        acc_train = sess.run(acc, feed_dict={x: x_train, y: y_train})\n",
    "        \n",
    "        x_test, y_test = mnist.test.next_batch(5000)\n",
    "        x_test = x_test.reshape((5000, n_steps, n_input))\n",
    "        acc_test = sess.run(acc, feed_dict={x: x_test, y: y_test})\n",
    "        \n",
    "        train_loss = sess.run(cost, feed_dict={x: x_train, y: y_train})  \n",
    "        test_loss = sess.run(cost, feed_dict={x: x_test, y: y_test})\n",
    "        \n",
    "        train_error.append(acc_train)\n",
    "        test_error.append(acc_test)\n",
    "        batch_iter.append(i)\n",
    "\n",
    "        if i % 500 == 0:\n",
    "            print(\"iter:{:5}, train_acc:{:.3f}, test_acc:{:.3f}, train_loss:{:.3f}, test_loss:{:.3f}\".format(i, acc_train, acc_test, train_loss, test_loss))\n",
    "\n",
    "        "
   ]
  },
  {
   "cell_type": "code",
   "execution_count": 8,
   "metadata": {
    "collapsed": false
   },
   "outputs": [
    {
     "data": {
      "image/png": "[encoded data removed]",
      "text/plain": [
       "<matplotlib.figure.Figure at 0x7f48148c5d10>"
      ]
     },
     "metadata": {},
     "output_type": "display_data"
    }
   ],
   "source": [
    "plt.figure(figsize=(8,4))\n",
    "k=1\n",
    "plt.plot(batch_iter[k:], train_error[k:], 'r', batch_iter[k:], test_error[k:], 'g');\n",
    "plt.legend([\"train error\", \"test error\"]);"
   ]
  },
  {
   "cell_type": "markdown",
   "metadata": {},
   "source": [
    "# Bidirectional RNN"
   ]
  },
  {
   "cell_type": "code",
   "execution_count": 9,
   "metadata": {
    "collapsed": false
   },
   "outputs": [],
   "source": [
    "biRNN_weights = tf.Variable(tf.random_normal([2*n_hidden, n_classes]))\n",
    "biRNN_biases = tf.Variable(tf.random_normal([n_classes]))\n",
    "\n",
    "def BiRNN(x, weights, biases):\n",
    "    lstm_backward_cell = tf.nn.rnn_cell.BasicLSTMCell(n_hidden)\n",
    "    lstm_forward_cell = tf.nn.rnn_cell.BasicLSTMCell(n_hidden)\n",
    "\n",
    "    x = tf.transpose(x, [1, 0, 2]) # swap batch_size and n_steps\n",
    "    x = tf.reshape(x, [-1, n_input])\n",
    "    x = tf.split(0, n_steps, x)\n",
    "\n",
    "    outputs, _, _ = rnn.bidirectional_rnn(lstm_forward_cell, lstm_backward_cell, x, dtype=tf.float32)\n",
    "\n",
    "    return tf.matmul(outputs[-1], weights) + biases\n",
    "    \n",
    "pred = BiRNN(x, biRNN_weights, biRNN_biases)"
   ]
  },
  {
   "cell_type": "code",
   "execution_count": 10,
   "metadata": {
    "collapsed": true
   },
   "outputs": [],
   "source": [
    "cost = tf.reduce_mean(tf.nn.softmax_cross_entropy_with_logits(pred, y))\n",
    "optimizer = tf.train.AdamOptimizer(learning_rate=learning_rate).minimize(cost)\n",
    "\n",
    "correct_pred = tf.equal(tf.argmax(pred,1), tf.argmax(y,1))\n",
    "acc = tf.reduce_mean(tf.cast(correct_pred, tf.float32))"
   ]
  },
  {
   "cell_type": "code",
   "execution_count": 11,
   "metadata": {
    "collapsed": true
   },
   "outputs": [],
   "source": [
    "sess.run(tf.initialize_all_variables())"
   ]
  },
  {
   "cell_type": "code",
   "execution_count": 12,
   "metadata": {
    "collapsed": false
   },
   "outputs": [
    {
     "name": "stdout",
     "output_type": "stream",
     "text": [
      "iter:    0, train_acc:0.155, test_acc:0.160, train_loss:3.077, test_loss:3.167\n",
      "iter:  500, train_acc:0.942, test_acc:0.966, train_loss:0.178, test_loss:0.104\n",
      "iter: 1000, train_acc:0.974, test_acc:0.969, train_loss:0.087, test_loss:0.087\n",
      "iter: 1500, train_acc:0.979, test_acc:0.974, train_loss:0.063, test_loss:0.076\n",
      "iter: 2000, train_acc:0.986, test_acc:0.982, train_loss:0.043, test_loss:0.063\n",
      "iter: 2500, train_acc:0.983, test_acc:0.980, train_loss:0.057, test_loss:0.066\n",
      "iter: 3000, train_acc:0.990, test_acc:0.978, train_loss:0.035, test_loss:0.065\n",
      "iter: 3500, train_acc:0.994, test_acc:0.987, train_loss:0.022, test_loss:0.046\n",
      "iter: 4000, train_acc:0.991, test_acc:0.985, train_loss:0.028, test_loss:0.056\n",
      "iter: 4500, train_acc:0.992, test_acc:0.986, train_loss:0.030, test_loss:0.049\n",
      "iter: 5000, train_acc:0.990, test_acc:0.981, train_loss:0.029, test_loss:0.064\n",
      "iter: 5500, train_acc:0.994, test_acc:0.985, train_loss:0.016, test_loss:0.046\n",
      "iter: 6000, train_acc:0.995, test_acc:0.988, train_loss:0.016, test_loss:0.044\n",
      "iter: 6500, train_acc:0.994, test_acc:0.984, train_loss:0.016, test_loss:0.061\n",
      "iter: 7000, train_acc:0.995, test_acc:0.987, train_loss:0.014, test_loss:0.048\n",
      "iter: 7500, train_acc:0.996, test_acc:0.989, train_loss:0.012, test_loss:0.046\n",
      "iter: 8000, train_acc:0.997, test_acc:0.987, train_loss:0.014, test_loss:0.046\n",
      "iter: 8500, train_acc:0.995, test_acc:0.984, train_loss:0.014, test_loss:0.059\n",
      "iter: 9000, train_acc:0.995, test_acc:0.989, train_loss:0.011, test_loss:0.046\n",
      "iter: 9500, train_acc:0.998, test_acc:0.987, train_loss:0.009, test_loss:0.045\n"
     ]
    }
   ],
   "source": [
    "train_error, test_error, batch_iter = [], [], []\n",
    "batch_size = 100\n",
    "for i in range(10000):\n",
    "    x_train, y_train = mnist.train.next_batch(batch_size)\n",
    "    x_train = x_train.reshape((batch_size, n_steps, n_input))\n",
    "\n",
    "    optimizer.run(feed_dict={x: x_train, y: y_train})\n",
    "    \n",
    "    if i % 500 == 0:\n",
    "        x_train, y_train = mnist.train.next_batch(5000)\n",
    "        x_train = x_train.reshape((5000, n_steps, n_input))\n",
    "        acc_train = sess.run(acc, feed_dict={x: x_train, y: y_train})\n",
    "        \n",
    "        x_test, y_test = mnist.test.next_batch(5000)\n",
    "        x_test = x_test.reshape((5000, n_steps, n_input))\n",
    "        acc_test = sess.run(acc, feed_dict={x: x_test, y: y_test})\n",
    "        \n",
    "        train_loss = sess.run(cost, feed_dict={x: x_train, y: y_train})  \n",
    "        test_loss = sess.run(cost, feed_dict={x: x_test, y: y_test})\n",
    "        \n",
    "        train_error.append(acc_train)\n",
    "        test_error.append(acc_test)\n",
    "        batch_iter.append(i)\n",
    "\n",
    "        if i % 500 == 0:\n",
    "            print(\"iter:{:5}, train_acc:{:.3f}, test_acc:{:.3f}, train_loss:{:.3f}, test_loss:{:.3f}\".format(i, acc_train, acc_test, train_loss, test_loss))\n",
    "\n",
    "        "
   ]
  },
  {
   "cell_type": "code",
   "execution_count": 13,
   "metadata": {
    "collapsed": false
   },
   "outputs": [
    {
     "data": {
      "image/png": "[encoded data removed]",
      "text/plain": [
       "<matplotlib.figure.Figure at 0x7fbbf4b1b490>"
      ]
     },
     "metadata": {},
     "output_type": "display_data"
    }
   ],
   "source": [
    "plt.figure(figsize=(8,4))\n",
    "k=1\n",
    "plt.plot(batch_iter[k:], train_error[k:], 'r', batch_iter[k:], test_error[k:], 'g');\n",
    "plt.legend([\"train error\", \"test error\"]);"
   ]
  },
  {
   "cell_type": "code",
   "execution_count": 15,
   "metadata": {
    "collapsed": false
   },
   "outputs": [
    {
     "name": "stdout",
     "output_type": "stream",
     "text": [
      "Tensor(\"Mean_3:0\", shape=(), dtype=float32)\n"
     ]
    }
   ],
   "source": [
    "print(acc)"
   ]
  },
  {
   "cell_type": "code",
   "execution_count": null,
   "metadata": {
    "collapsed": true
   },
   "outputs": [],
   "source": []
  }
 ],
 "metadata": {
  "kernelspec": {
   "display_name": "Python 2",
   "language": "python",
   "name": "python2"
  },
  "language_info": {
   "codemirror_mode": {
    "name": "ipython",
    "version": 2
   },
   "file_extension": ".py",
   "mimetype": "text/x-python",
   "name": "python",
   "nbconvert_exporter": "python",
   "pygments_lexer": "ipython2",
   "version": "2.7.6"
  }
 },
 "nbformat": 4,
 "nbformat_minor": 1
}
